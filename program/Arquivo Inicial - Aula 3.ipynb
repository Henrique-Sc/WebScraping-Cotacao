{
 "cells": [
  {
   "cell_type": "markdown",
   "metadata": {},
   "source": [
    "# Automação Web e Busca de Informações com Python\n",
    "\n",
    "#### Desafio: \n",
    "\n",
    "Trabalhamos em uma importadora e o preço dos nossos produtos é vinculado a cotação de:\n",
    "- Dólar\n",
    "- Euro\n",
    "- Ouro\n",
    "\n",
    "Precisamos pegar na internet, de forma automática, a cotação desses 3 itens e saber quanto devemos cobrar pelos nossos produtos, considerando uma margem de contribuição que temos na nossa base de dados.\n",
    "\n",
    "Base de Dados: https://drive.google.com/drive/folders/1KmAdo593nD8J9QBaZxPOG1yxHZua4Rtv?usp=sharing\n",
    "\n",
    "Libs utilizadas:\n",
    "- Selenium\n",
    "- Pandas"
   ]
  },
  {
   "cell_type": "code",
   "execution_count": 1,
   "metadata": {},
   "outputs": [],
   "source": [
    "# Imports\n",
    "\n",
    "import pandas as pd\n",
    "from selenium import webdriver\n",
    "from selenium.webdriver.common.keys import Keys\n",
    "from selenium.webdriver.common.by import By\n",
    "from datetime import datetime\n"
   ]
  },
  {
   "cell_type": "markdown",
   "metadata": {},
   "source": [
    "### Agora vamos atualiza a nossa base de preços com as novas cotações"
   ]
  },
  {
   "cell_type": "markdown",
   "metadata": {},
   "source": [
    "#### Passo 1: Coletar as novas cotações"
   ]
  },
  {
   "cell_type": "code",
   "execution_count": null,
   "metadata": {},
   "outputs": [],
   "source": [
    "# Criar o navegador\n",
    "navegador = webdriver.Edge()\n",
    "navegador.maximize_window()\n",
    "\n",
    "\n",
    "# Pesquisar por \"Cotação Dólar\"\n",
    "navegador.get('https://google.com')  # Entrar no Google\n",
    "search_box = navegador.find_element(By.XPATH, \"/html/body/div[1]/div[3]/form/div[1]/div[1]/div[1]/div/div[2]/input\")\n",
    "search_box.send_keys('Cotação Dólar', Keys.ENTER)\n",
    "\n",
    "# Pegar a cotação do Dólar\n",
    "cotacao_dolar = navegador.find_element(By.XPATH, '//*[@id=\"knowledge-currency__updatable-data-column\"]/div[1]/div[2]/span[1]')\n",
    "cotacao_dolar = cotacao_dolar.get_attribute('data-value')\n",
    "\n",
    "\n",
    "# Pesquisar por \"Cotação Euro\"\n",
    "navegador.get('https://google.com')\n",
    "search_box = navegador.find_element(By.XPATH, \"/html/body/div[1]/div[3]/form/div[1]/div[1]/div[1]/div/div[2]/input\")\n",
    "search_box.send_keys('Cotação Euro', Keys.ENTER)\n",
    "\n",
    "# Pegar a cotação do Euro\n",
    "cotacao_euro = navegador.find_element(By.XPATH, '//*[@id=\"knowledge-currency__updatable-data-column\"]/div[1]/div[2]/span[1]')\n",
    "cotacao_euro = cotacao_euro.get_attribute('data-value')\n",
    "\n",
    "\n",
    "# Entrar no site Melhor Cambio\n",
    "navegador.get('https://www.melhorcambio.com/ouro-hoje')\n",
    "\n",
    "# Pegar a cotação do Ouro\n",
    "cotacao_ouro = navegador.find_element(By.XPATH, '//*[@id=\"comercial\"]').get_attribute('value')\n",
    "\n",
    "navegador.close()\n",
    "\n",
    "\n",
    "print(cotacao_dolar)\n",
    "print(cotacao_euro)\n",
    "print(cotacao_ouro)"
   ]
  },
  {
   "cell_type": "markdown",
   "metadata": {},
   "source": [
    "#### Passo 2: Importar a base de dados"
   ]
  },
  {
   "cell_type": "code",
   "execution_count": null,
   "metadata": {
    "scrolled": true
   },
   "outputs": [],
   "source": [
    "tabela = pd.read_excel('Produtos.xlsx')\n",
    "\n",
    "display(tabela)"
   ]
  },
  {
   "cell_type": "markdown",
   "metadata": {},
   "source": [
    "### Atualizando os preços e o cálculo do Preço Final"
   ]
  },
  {
   "cell_type": "code",
   "execution_count": null,
   "metadata": {},
   "outputs": [],
   "source": [
    "# Atualizar as cotações\n",
    "\n",
    "# Dolar\n",
    "tabela.loc[tabela['Moeda'] == 'Dólar', 'Cotação'] = cotacao_dolar\n",
    "\n",
    "# Euro\n",
    "tabela.loc[tabela['Moeda'] == 'Euro', 'Cotação'] = cotacao_euro\n",
    "\n",
    "# Ouro\n",
    "tabela.loc[tabela['Moeda'] == 'Ouro', 'Cotação'] = cotacao_ouro.replace(',', '.')\n",
    "\n",
    "# Corrigir a tabela\n",
    "tabela['Cotação'] = pd.to_numeric(tabela['Cotação'])\n",
    "\n",
    "# Atualizar Preço de Compra (Preço de Compra = Preço Original * Cotação)\n",
    "tabela['Preço de Compra'] = tabela['Preço Original'] * tabela['Cotação']\n",
    "\n",
    "# Atualizar Preço de venda (Preço de Venda = Preço de Compra * Margem)\n",
    "tabela['Preço de Venda'] = tabela['Preço de Compra'] * tabela['Margem']\n",
    "\n",
    "display(tabela)"
   ]
  },
  {
   "cell_type": "markdown",
   "metadata": {},
   "source": [
    "### Agora vamos exportar a nova base de preços atualizada"
   ]
  },
  {
   "cell_type": "code",
   "execution_count": null,
   "metadata": {},
   "outputs": [],
   "source": [
    "date = datetime.now()\n",
    "data = f'{date.day}-{date.month}-{date.year}-{date.hour}-{date.minute}-{date.second}'\n",
    "name = f'Produtos_atualizados_{data}.xlsx'\n",
    "\n",
    "tabela.to_excel(name, index=False, startrow=0, sheet_name='Produtos')"
   ]
  }
 ],
 "metadata": {
  "kernelspec": {
   "display_name": "Python 3 (ipykernel)",
   "language": "python",
   "name": "python3"
  },
  "language_info": {
   "codemirror_mode": {
    "name": "ipython",
    "version": 3
   },
   "file_extension": ".py",
   "mimetype": "text/x-python",
   "name": "python",
   "nbconvert_exporter": "python",
   "pygments_lexer": "ipython3",
   "version": "3.9.13"
  }
 },
 "nbformat": 4,
 "nbformat_minor": 4
}
